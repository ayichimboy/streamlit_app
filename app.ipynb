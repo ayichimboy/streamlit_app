{
 "cells": [
  {
   "cell_type": "code",
   "execution_count": 1,
   "metadata": {},
   "outputs": [],
   "source": [
    "# Import libraries\n",
    "import numpy as np \n",
    "import matplotlib.pyplot as plt\n",
    "import streamlit as st\n",
    "import pandas as pd\n",
    "import seaborn as sns\n",
    "\n",
    "# Build streamlit App"
   ]
  },
  {
   "cell_type": "code",
   "execution_count": null,
   "metadata": {},
   "outputs": [
    {
     "name": "stderr",
     "output_type": "stream",
     "text": [
      "2024-12-15 23:14:19.626 WARNING streamlit.runtime.scriptrunner_utils.script_run_context: Thread 'MainThread': missing ScriptRunContext! This warning can be ignored when running in bare mode.\n",
      "2024-12-15 23:14:20.354 \n",
      "  \u001b[33m\u001b[1mWarning:\u001b[0m to view this Streamlit app on a browser, run it with the following\n",
      "  command:\n",
      "\n",
      "    streamlit run c:\\Users\\User\\streamlit_app\\.venv\\lib\\site-packages\\ipykernel_launcher.py [ARGUMENTS]\n",
      "2024-12-15 23:14:20.355 Thread 'MainThread': missing ScriptRunContext! This warning can be ignored when running in bare mode.\n",
      "2024-12-15 23:14:20.356 Thread 'MainThread': missing ScriptRunContext! This warning can be ignored when running in bare mode.\n",
      "2024-12-15 23:14:20.358 Thread 'MainThread': missing ScriptRunContext! This warning can be ignored when running in bare mode.\n",
      "2024-12-15 23:14:20.359 Thread 'MainThread': missing ScriptRunContext! This warning can be ignored when running in bare mode.\n",
      "2024-12-15 23:14:20.359 Thread 'MainThread': missing ScriptRunContext! This warning can be ignored when running in bare mode.\n"
     ]
    }
   ],
   "source": [
    "st.title(\"Grocery Spending Tracker\")\n",
    "st.write(\"Track Weekly Grocery Expenses\")\n",
    "\n",
    "if \"data\" not in st.session_state:\n",
    "    st.session_state.data = pd.DataFrame(columns=[\"DAta\", \"Amount\"])\n",
    "\n",
    "with st.form(\"grocery_form\"):\n",
    "    st.write(\"Enger your grocery expense:\")\n",
    "    date = st.data_input(\"Date of Purchase:\")\n",
    "    amount = st.number_input(\"Amount Spent ($):\", min_value=0.00, step=0.01)\n",
    "    submitted = st.form_submit_button(\"Add Expense\")"
   ]
  },
  {
   "cell_type": "code",
   "execution_count": null,
   "metadata": {},
   "outputs": [],
   "source": [
    "import streamlit as st\n",
    "import pandas as pd\n",
    "import matplotlib.pyplot as plt\n",
    "\n",
    "# Step 1: Title and Introduction\n",
    "st.title(\"Grocery Spending Tracker\")\n",
    "st.write(\"Track your grocery expenses over time by entering the date and amount spent.\")\n",
    "\n",
    "# Step 2: Initialize or Load Data\n",
    "if \"data\" not in st.session_state:\n",
    "    # Create an empty dataframe if it doesn't exist in the session state\n",
    "    st.session_state.data = pd.DataFrame(columns=[\"Date\", \"Amount\"])\n",
    "\n",
    "# Step 3: Input Form\n",
    "with st.form(\"grocery_form\"):\n",
    "    st.write(\"Enter your grocery expense:\")\n",
    "    date = st.date_input(\"Date of purchase:\")\n",
    "    amount = st.number_input(\"Amount spent ($):\", min_value=0.0, step=0.01)\n",
    "    submitted = st.form_submit_button(\"Add Expense\")\n",
    "\n",
    "    if submitted:\n",
    "        # Update the session state with new input\n",
    "        new_data = pd.DataFrame({\"Date\": [date], \"Amount\": [amount]})\n",
    "        st.session_state.data = pd.concat([st.session_state.data, new_data], ignore_index=True)\n",
    "        st.success(\"Expense added successfully!\")\n",
    "\n",
    "# Step 4: Display Data\n",
    "st.write(\"### Your Grocery Expenses\")\n",
    "if not st.session_state.data.empty:\n",
    "    st.dataframe(st.session_state.data)\n",
    "else:\n",
    "    st.write(\"No expenses recorded yet.\")\n",
    "\n",
    "# Step 5: Visualization\n",
    "if not st.session_state.data.empty:\n",
    "    st.write(\"### Expense Over Time\")\n",
    "    # Convert 'Date' to datetime for sorting and plotting\n",
    "    st.session_state.data[\"Date\"] = pd.to_datetime(st.session_state.data[\"Date\"])\n",
    "    st.session_state.data.sort_values(\"Date\", inplace=True)\n",
    "\n",
    "    # Plotting\n",
    "    plt.figure(figsize=(10, 6))\n",
    "    plt.plot(st.session_state.data[\"Date\"], st.session_state.data[\"Amount\"], marker=\"o\", linestyle=\"-\")\n",
    "    plt.title(\"Grocery Spending Over Time\", fontsize=16)\n",
    "    plt.xlabel(\"Date\", fontsize=14)\n",
    "    plt.ylabel(\"Amount Spent ($)\", fontsize=14)\n",
    "    plt.grid(True)\n",
    "    st.pyplot(plt)\n",
    "else:\n",
    "    st.write(\"No data available for visualization.\")\n"
   ]
  }
 ],
 "metadata": {
  "kernelspec": {
   "display_name": ".venv",
   "language": "python",
   "name": "python3"
  },
  "language_info": {
   "codemirror_mode": {
    "name": "ipython",
    "version": 3
   },
   "file_extension": ".py",
   "mimetype": "text/x-python",
   "name": "python",
   "nbconvert_exporter": "python",
   "pygments_lexer": "ipython3",
   "version": "3.10.14"
  }
 },
 "nbformat": 4,
 "nbformat_minor": 2
}
